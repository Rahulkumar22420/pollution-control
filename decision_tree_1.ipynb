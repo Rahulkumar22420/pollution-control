{
  "nbformat": 4,
  "nbformat_minor": 0,
  "metadata": {
    "colab": {
      "name": "decision tree-1.ipynb",
      "provenance": [],
      "collapsed_sections": [],
      "authorship_tag": "ABX9TyMA7dy2TvUIAiVHTZZCyGSb",
      "include_colab_link": true
    },
    "kernelspec": {
      "name": "python3",
      "display_name": "Python 3"
    },
    "language_info": {
      "name": "python"
    }
  },
  "cells": [
    {
      "cell_type": "markdown",
      "metadata": {
        "id": "view-in-github",
        "colab_type": "text"
      },
      "source": [
        "<a href=\"https://colab.research.google.com/github/Rahulkumar22420/pollution-control/blob/main/decision_tree_1.ipynb\" target=\"_parent\"><img src=\"https://colab.research.google.com/assets/colab-badge.svg\" alt=\"Open In Colab\"/></a>"
      ]
    },
    {
      "cell_type": "code",
      "metadata": {
        "id": "GqlJiioN_VuZ"
      },
      "source": [
        "import pandas as pd\n"
      ],
      "execution_count": 2,
      "outputs": []
    },
    {
      "cell_type": "code",
      "metadata": {
        "colab": {
          "base_uri": "https://localhost:8080/",
          "height": 830
        },
        "id": "P-r33tkEDZOi",
        "outputId": "9f978a3c-2414-4ed0-9a83-646fccde2035"
      },
      "source": [
        "df=pd.read_excel(\"/content/water-_2 (1).xls\")\n",
        "df\n"
      ],
      "execution_count": 3,
      "outputs": [
        {
          "output_type": "execute_result",
          "data": {
            "text/html": [
              "<div>\n",
              "<style scoped>\n",
              "    .dataframe tbody tr th:only-of-type {\n",
              "        vertical-align: middle;\n",
              "    }\n",
              "\n",
              "    .dataframe tbody tr th {\n",
              "        vertical-align: top;\n",
              "    }\n",
              "\n",
              "    .dataframe thead th {\n",
              "        text-align: right;\n",
              "    }\n",
              "</style>\n",
              "<table border=\"1\" class=\"dataframe\">\n",
              "  <thead>\n",
              "    <tr style=\"text-align: right;\">\n",
              "      <th></th>\n",
              "      <th>STATION CODE</th>\n",
              "      <th>LOCATIONS</th>\n",
              "      <th>STATE</th>\n",
              "      <th>Temp</th>\n",
              "      <th>D.O. (mg/l)</th>\n",
              "      <th>PH</th>\n",
              "      <th>CONDUCTIVITY (µmhos/cm)</th>\n",
              "      <th>B.O.D. (mg/l)</th>\n",
              "      <th>NITRATENAN N+ NITRITENANN (mg/l)</th>\n",
              "      <th>FECAL COLIFORM (MPN/100ml)</th>\n",
              "      <th>TOTAL COLIFORM (MPN/100ml)Mean</th>\n",
              "      <th>year</th>\n",
              "      <th>Code</th>\n",
              "    </tr>\n",
              "  </thead>\n",
              "  <tbody>\n",
              "    <tr>\n",
              "      <th>0</th>\n",
              "      <td>1393</td>\n",
              "      <td>DAMANGANGA AT D/S OF MADHUBAN, DAMAN</td>\n",
              "      <td>DAMAN &amp; DIU</td>\n",
              "      <td>30.6</td>\n",
              "      <td>6.7</td>\n",
              "      <td>7.5</td>\n",
              "      <td>203</td>\n",
              "      <td>0.0</td>\n",
              "      <td>0.1</td>\n",
              "      <td>11.00</td>\n",
              "      <td>27.00</td>\n",
              "      <td>2014</td>\n",
              "      <td>14</td>\n",
              "    </tr>\n",
              "    <tr>\n",
              "      <th>1</th>\n",
              "      <td>1399</td>\n",
              "      <td>ZUARI AT D/S OF PT. WHERE KUMBARJRIA CANAL JOI...</td>\n",
              "      <td>GOA</td>\n",
              "      <td>29.8</td>\n",
              "      <td>5.7</td>\n",
              "      <td>7.2</td>\n",
              "      <td>189</td>\n",
              "      <td>2.0</td>\n",
              "      <td>0.2</td>\n",
              "      <td>4953.00</td>\n",
              "      <td>8391.00</td>\n",
              "      <td>2014</td>\n",
              "      <td>13</td>\n",
              "    </tr>\n",
              "    <tr>\n",
              "      <th>2</th>\n",
              "      <td>1475</td>\n",
              "      <td>ZUARI AT PANCHAWADI</td>\n",
              "      <td>GOA</td>\n",
              "      <td>29.5</td>\n",
              "      <td>6.3</td>\n",
              "      <td>6.9</td>\n",
              "      <td>179</td>\n",
              "      <td>1.7</td>\n",
              "      <td>0.1</td>\n",
              "      <td>3243.00</td>\n",
              "      <td>5330.00</td>\n",
              "      <td>2014</td>\n",
              "      <td>13</td>\n",
              "    </tr>\n",
              "    <tr>\n",
              "      <th>3</th>\n",
              "      <td>3181</td>\n",
              "      <td>RIVER ZUARI AT BORIM BRIDGE</td>\n",
              "      <td>GOA</td>\n",
              "      <td>29.7</td>\n",
              "      <td>5.8</td>\n",
              "      <td>6.9</td>\n",
              "      <td>64</td>\n",
              "      <td>3.8</td>\n",
              "      <td>0.5</td>\n",
              "      <td>5382.00</td>\n",
              "      <td>8443.00</td>\n",
              "      <td>2014</td>\n",
              "      <td>13</td>\n",
              "    </tr>\n",
              "    <tr>\n",
              "      <th>4</th>\n",
              "      <td>3182</td>\n",
              "      <td>RIVER ZUARI AT MARCAIM JETTY</td>\n",
              "      <td>GOA</td>\n",
              "      <td>29.5</td>\n",
              "      <td>5.8</td>\n",
              "      <td>7.3</td>\n",
              "      <td>83</td>\n",
              "      <td>1.9</td>\n",
              "      <td>0.4</td>\n",
              "      <td>3428.00</td>\n",
              "      <td>5500.00</td>\n",
              "      <td>2014</td>\n",
              "      <td>13</td>\n",
              "    </tr>\n",
              "    <tr>\n",
              "      <th>...</th>\n",
              "      <td>...</td>\n",
              "      <td>...</td>\n",
              "      <td>...</td>\n",
              "      <td>...</td>\n",
              "      <td>...</td>\n",
              "      <td>...</td>\n",
              "      <td>...</td>\n",
              "      <td>...</td>\n",
              "      <td>...</td>\n",
              "      <td>...</td>\n",
              "      <td>...</td>\n",
              "      <td>...</td>\n",
              "      <td>...</td>\n",
              "    </tr>\n",
              "    <tr>\n",
              "      <th>947</th>\n",
              "      <td>1375</td>\n",
              "      <td>YAMUNA AT OKHLA BRIDGE (INLET OF AGRA CANAL), ...</td>\n",
              "      <td>DELHI</td>\n",
              "      <td>25.0</td>\n",
              "      <td>0.7</td>\n",
              "      <td>7.2</td>\n",
              "      <td>0</td>\n",
              "      <td>15.0</td>\n",
              "      <td>19.3</td>\n",
              "      <td>2200000.00</td>\n",
              "      <td>3500000.00</td>\n",
              "      <td>2014</td>\n",
              "      <td>21</td>\n",
              "    </tr>\n",
              "    <tr>\n",
              "      <th>948</th>\n",
              "      <td>1812</td>\n",
              "      <td>YAMUNA AT OKHLA AFTER MEETING OF SHAHDARA DRAI...</td>\n",
              "      <td>DELHI</td>\n",
              "      <td>25.0</td>\n",
              "      <td>0.6</td>\n",
              "      <td>7.2</td>\n",
              "      <td>0</td>\n",
              "      <td>20.0</td>\n",
              "      <td>19.3</td>\n",
              "      <td>3500000.00</td>\n",
              "      <td>9200000.00</td>\n",
              "      <td>2014</td>\n",
              "      <td>21</td>\n",
              "    </tr>\n",
              "    <tr>\n",
              "      <th>949</th>\n",
              "      <td>1492</td>\n",
              "      <td>YAMUNA AT YAMUNOTRI</td>\n",
              "      <td>UTTARAKHAND</td>\n",
              "      <td>19.0</td>\n",
              "      <td>8.4</td>\n",
              "      <td>8.3</td>\n",
              "      <td>0</td>\n",
              "      <td>1.4</td>\n",
              "      <td>1</td>\n",
              "      <td>0.00</td>\n",
              "      <td>0.00</td>\n",
              "      <td>2014</td>\n",
              "      <td>5</td>\n",
              "    </tr>\n",
              "    <tr>\n",
              "      <th>950</th>\n",
              "      <td>1493</td>\n",
              "      <td>YAMUNA AT HANUMANCHATTI</td>\n",
              "      <td>UTTARAKHAND</td>\n",
              "      <td>18.0</td>\n",
              "      <td>8.8</td>\n",
              "      <td>7.8</td>\n",
              "      <td>0</td>\n",
              "      <td>1.2</td>\n",
              "      <td>1</td>\n",
              "      <td>0.00</td>\n",
              "      <td>0.00</td>\n",
              "      <td>2014</td>\n",
              "      <td>5</td>\n",
              "    </tr>\n",
              "    <tr>\n",
              "      <th>951</th>\n",
              "      <td>1494</td>\n",
              "      <td>YAMUNA AT U/S OF LAKHWAR DAM</td>\n",
              "      <td>UTTARAKHAND</td>\n",
              "      <td>19.0</td>\n",
              "      <td>8.8</td>\n",
              "      <td>7.8</td>\n",
              "      <td>0</td>\n",
              "      <td>0.8</td>\n",
              "      <td>1.66</td>\n",
              "      <td>1.15</td>\n",
              "      <td>1.66</td>\n",
              "      <td>2014</td>\n",
              "      <td>5</td>\n",
              "    </tr>\n",
              "  </tbody>\n",
              "</table>\n",
              "<p>952 rows × 13 columns</p>\n",
              "</div>"
            ],
            "text/plain": [
              "     STATION CODE  ... Code\n",
              "0            1393  ...   14\n",
              "1            1399  ...   13\n",
              "2            1475  ...   13\n",
              "3            3181  ...   13\n",
              "4            3182  ...   13\n",
              "..            ...  ...  ...\n",
              "947          1375  ...   21\n",
              "948          1812  ...   21\n",
              "949          1492  ...    5\n",
              "950          1493  ...    5\n",
              "951          1494  ...    5\n",
              "\n",
              "[952 rows x 13 columns]"
            ]
          },
          "metadata": {
            "tags": []
          },
          "execution_count": 3
        }
      ]
    },
    {
      "cell_type": "code",
      "metadata": {
        "id": "1amA0fO4EVLx"
      },
      "source": [
        "from sklearn.model_selection import train_test_split\n"
      ],
      "execution_count": 4,
      "outputs": []
    },
    {
      "cell_type": "code",
      "metadata": {
        "id": "5NobucZpFHQk"
      },
      "source": [
        "dependent=df[['STATE']]\n",
        "independent=df[['PH']]"
      ],
      "execution_count": 5,
      "outputs": []
    },
    {
      "cell_type": "code",
      "metadata": {
        "id": "QUhdJRm6GE97"
      },
      "source": [
        "x_train,x_test,y_train,y_test=train_test_split(independent,dependent,test_size=0.3)"
      ],
      "execution_count": 6,
      "outputs": []
    },
    {
      "cell_type": "code",
      "metadata": {
        "colab": {
          "base_uri": "https://localhost:8080/"
        },
        "id": "zOi1eAyQHJ6t",
        "outputId": "46c0556c-de0c-4951-8266-430e48c7eb14"
      },
      "source": [
        "x_train.info()\n"
      ],
      "execution_count": 7,
      "outputs": [
        {
          "output_type": "stream",
          "text": [
            "<class 'pandas.core.frame.DataFrame'>\n",
            "Int64Index: 666 entries, 616 to 817\n",
            "Data columns (total 1 columns):\n",
            " #   Column  Non-Null Count  Dtype  \n",
            "---  ------  --------------  -----  \n",
            " 0   PH      666 non-null    float64\n",
            "dtypes: float64(1)\n",
            "memory usage: 10.4 KB\n"
          ],
          "name": "stdout"
        }
      ]
    },
    {
      "cell_type": "code",
      "metadata": {
        "id": "epm31nFJHxm3"
      },
      "source": [
        "from sklearn.tree import DecisionTreeClassifier"
      ],
      "execution_count": 8,
      "outputs": []
    },
    {
      "cell_type": "code",
      "metadata": {
        "id": "rdGJG58XIUl_"
      },
      "source": [
        "dt=DecisionTreeClassifier()"
      ],
      "execution_count": 9,
      "outputs": []
    },
    {
      "cell_type": "code",
      "metadata": {
        "colab": {
          "base_uri": "https://localhost:8080/"
        },
        "id": "LZQNzm0yIlVI",
        "outputId": "d5954882-9fe1-4650-88d7-b71f1ab3ddc9"
      },
      "source": [
        "dt.fit(x_train,y_train)"
      ],
      "execution_count": 10,
      "outputs": [
        {
          "output_type": "execute_result",
          "data": {
            "text/plain": [
              "DecisionTreeClassifier(ccp_alpha=0.0, class_weight=None, criterion='gini',\n",
              "                       max_depth=None, max_features=None, max_leaf_nodes=None,\n",
              "                       min_impurity_decrease=0.0, min_impurity_split=None,\n",
              "                       min_samples_leaf=1, min_samples_split=2,\n",
              "                       min_weight_fraction_leaf=0.0, presort='deprecated',\n",
              "                       random_state=None, splitter='best')"
            ]
          },
          "metadata": {
            "tags": []
          },
          "execution_count": 10
        }
      ]
    },
    {
      "cell_type": "code",
      "metadata": {
        "id": "mDdvR4_NIzY0"
      },
      "source": [
        "y_predict=dt.predict(x_test)"
      ],
      "execution_count": 11,
      "outputs": []
    },
    {
      "cell_type": "code",
      "metadata": {
        "colab": {
          "base_uri": "https://localhost:8080/"
        },
        "id": "W-4UVOH5JjLE",
        "outputId": "7c429fd9-3871-4fb6-af69-4fe1e72898e9"
      },
      "source": [
        "y_predict"
      ],
      "execution_count": 12,
      "outputs": [
        {
          "output_type": "execute_result",
          "data": {
            "text/plain": [
              "array(['MAHARASHTRA', 'KERALA', 'MAHARASHTRA', 'MAHARASHTRA',\n",
              "       'MAHARASHTRA', 'MAHARASHTRA', 'MEGHALAYA', 'MAHARASHTRA', 'KERALA',\n",
              "       'KERALA', 'KERALA', 'MAHARASHTRA', 'KERALA', 'KERALA', 'KERALA',\n",
              "       'MAHARASHTRA', 'KERALA', 'MAHARASHTRA', 'MAHARASHTRA',\n",
              "       'MAHARASHTRA', 'KERALA', 'KERALA', 'MEGHALAYA', 'MAHARASHTRA',\n",
              "       'MAHARASHTRA', 'KERALA', 'MAHARASHTRA', 'KERALA', 'GUJARAT', 'GOA',\n",
              "       'KERALA', 'KERALA', 'KERALA', 'MEGHALAYA', 'KERALA', 'KERALA',\n",
              "       'KERALA', 'KERALA', 'MAHARASHTRA', 'GUJARAT', 'KERALA',\n",
              "       'TAMILNADU', 'MAHARASHTRA', 'ORISSA', 'MEGHALAYA', 'KERALA',\n",
              "       'MAHARASHTRA', 'KERALA', 'MAHARASHTRA', 'MAHARASHTRA', 'KERALA',\n",
              "       'ORISSA', 'MAHARASHTRA', 'MAHARASHTRA', 'MEGHALAYA', 'MAHARASHTRA',\n",
              "       'MAHARASHTRA', 'KERALA', 'MAHARASHTRA', 'KERALA', 'MAHARASHTRA',\n",
              "       'KERALA', 'MAHARASHTRA', 'GUJARAT', 'KERALA', 'KERALA',\n",
              "       'MAHARASHTRA', 'ORISSA', 'GUJARAT', 'MAHARASHTRA', 'KERALA',\n",
              "       'KERALA', 'MAHARASHTRA', 'MAHARASHTRA', 'ORISSA', 'MAHARASHTRA',\n",
              "       'MAHARASHTRA', 'MAHARASHTRA', 'MAHARASHTRA', 'MEGHALAYA', 'KERALA',\n",
              "       'MAHARASHTRA', 'MAHARASHTRA', 'MEGHALAYA', 'KERALA', 'MAHARASHTRA',\n",
              "       'KERALA', 'KERALA', 'MAHARASHTRA', 'KERALA', 'KERALA',\n",
              "       'MAHARASHTRA', 'KERALA', 'MAHARASHTRA', 'MAHARASHTRA',\n",
              "       'MAHARASHTRA', 'KERALA', 'MAHARASHTRA', 'KERALA', 'KERALA',\n",
              "       'MAHARASHTRA', 'KERALA', 'MAHARASHTRA', 'MAHARASHTRA', 'KERALA',\n",
              "       'MAHARASHTRA', 'KERALA', 'KERALA', 'KERALA', 'KERALA', 'ORISSA',\n",
              "       'MEGHALAYA', 'KERALA', 'KERALA', 'KERALA', 'KERALA', 'KERALA',\n",
              "       'MAHARASHTRA', 'MAHARASHTRA', 'KERALA', 'MAHARASHTRA', 'MEGHALAYA',\n",
              "       'MAHARASHTRA', 'KERALA', 'KERALA', 'KERALA', 'KERALA', 'KERALA',\n",
              "       'MEGHALAYA', 'MAHARASHTRA', 'TAMILNADU', 'KERALA', 'TAMILNADU',\n",
              "       'MAHARASHTRA', 'MAHARASHTRA', 'KERALA', 'KERALA', 'MAHARASHTRA',\n",
              "       'MAHARASHTRA', 'KERALA', 'KERALA', 'MAHARASHTRA', 'KERALA',\n",
              "       'MEGHALAYA', 'MEGHALAYA', 'KERALA', 'KERALA', 'MAHARASHTRA',\n",
              "       'MAHARASHTRA', 'MAHARASHTRA', 'MAHARASHTRA', 'KERALA',\n",
              "       'MAHARASHTRA', 'TAMILNADU', 'MAHARASHTRA', 'KERALA', 'MAHARASHTRA',\n",
              "       'MAHARASHTRA', 'MAHARASHTRA', 'MAHARASHTRA', 'TAMILNADU',\n",
              "       'MAHARASHTRA', 'ORISSA', 'KERALA', 'KERALA', 'MAHARASHTRA',\n",
              "       'KERALA', 'MAHARASHTRA', 'MAHARASHTRA', 'MEGHALAYA', 'MAHARASHTRA',\n",
              "       'KERALA', 'MAHARASHTRA', 'MAHARASHTRA', 'KERALA', 'KERALA',\n",
              "       'MEGHALAYA', 'KERALA', 'KERALA', 'KERALA', 'TAMILNADU',\n",
              "       'MAHARASHTRA', 'KERALA', 'KERALA', 'KERALA', 'MAHARASHTRA',\n",
              "       'MAHARASHTRA', 'MAHARASHTRA', 'KERALA', 'KERALA', 'MAHARASHTRA',\n",
              "       'ORISSA', 'MAHARASHTRA', 'ORISSA', 'KERALA', 'ORISSA', 'KERALA',\n",
              "       'MAHARASHTRA', 'KERALA', 'MAHARASHTRA', 'KERALA', 'MAHARASHTRA',\n",
              "       'MAHARASHTRA', 'MAHARASHTRA', 'MAHARASHTRA', 'MAHARASHTRA',\n",
              "       'KERALA', 'KERALA', 'ORISSA', 'MAHARASHTRA', 'KERALA',\n",
              "       'MAHARASHTRA', 'KERALA', 'MAHARASHTRA', 'KERALA', 'KERALA',\n",
              "       'MEGHALAYA', 'MEGHALAYA', 'KERALA', 'MAHARASHTRA', 'KERALA',\n",
              "       'MAHARASHTRA', 'GOA', 'KERALA', 'MEGHALAYA', 'MAHARASHTRA',\n",
              "       'MAHARASHTRA', 'KERALA', 'ORISSA', 'MAHARASHTRA', 'MAHARASHTRA',\n",
              "       'ORISSA', 'GUJARAT', 'MAHARASHTRA', 'MEGHALAYA', 'MAHARASHTRA',\n",
              "       'KERALA', 'KERALA', 'MEGHALAYA', 'ORISSA', 'MAHARASHTRA', 'GOA',\n",
              "       'MEGHALAYA', 'ORISSA', 'KERALA', 'GOA', 'KERALA', 'GOA',\n",
              "       'MAHARASHTRA', 'MAHARASHTRA', 'KERALA', 'GOA', 'KERALA',\n",
              "       'MAHARASHTRA', 'MAHARASHTRA', 'KERALA', 'KERALA', 'ORISSA',\n",
              "       'GUJARAT', 'KERALA', 'MAHARASHTRA', 'KERALA', 'KERALA', 'KERALA',\n",
              "       'KERALA', 'KERALA', 'GOA', 'MAHARASHTRA', 'KERALA', 'KERALA',\n",
              "       'MAHARASHTRA', 'MAHARASHTRA', 'KERALA', 'KERALA', 'KERALA',\n",
              "       'MAHARASHTRA', 'MAHARASHTRA', 'KERALA', 'MAHARASHTRA',\n",
              "       'MAHARASHTRA', 'GOA', 'KERALA', 'KERALA', 'MAHARASHTRA', 'KERALA',\n",
              "       'MAHARASHTRA'], dtype=object)"
            ]
          },
          "metadata": {
            "tags": []
          },
          "execution_count": 12
        }
      ]
    },
    {
      "cell_type": "code",
      "metadata": {
        "colab": {
          "base_uri": "https://localhost:8080/",
          "height": 419
        },
        "id": "xDv5yXzfJydc",
        "outputId": "30f57dfe-95d7-4c41-cbe3-167e2e07b2a9"
      },
      "source": [
        "y_test"
      ],
      "execution_count": 13,
      "outputs": [
        {
          "output_type": "execute_result",
          "data": {
            "text/html": [
              "<div>\n",
              "<style scoped>\n",
              "    .dataframe tbody tr th:only-of-type {\n",
              "        vertical-align: middle;\n",
              "    }\n",
              "\n",
              "    .dataframe tbody tr th {\n",
              "        vertical-align: top;\n",
              "    }\n",
              "\n",
              "    .dataframe thead th {\n",
              "        text-align: right;\n",
              "    }\n",
              "</style>\n",
              "<table border=\"1\" class=\"dataframe\">\n",
              "  <thead>\n",
              "    <tr style=\"text-align: right;\">\n",
              "      <th></th>\n",
              "      <th>STATE</th>\n",
              "    </tr>\n",
              "  </thead>\n",
              "  <tbody>\n",
              "    <tr>\n",
              "      <th>809</th>\n",
              "      <td>MAHARASHTRA</td>\n",
              "    </tr>\n",
              "    <tr>\n",
              "      <th>877</th>\n",
              "      <td>KERALA</td>\n",
              "    </tr>\n",
              "    <tr>\n",
              "      <th>311</th>\n",
              "      <td>MAHARASHTRA</td>\n",
              "    </tr>\n",
              "    <tr>\n",
              "      <th>299</th>\n",
              "      <td>MAHARASHTRA</td>\n",
              "    </tr>\n",
              "    <tr>\n",
              "      <th>707</th>\n",
              "      <td>RAJASTHAN</td>\n",
              "    </tr>\n",
              "    <tr>\n",
              "      <th>...</th>\n",
              "      <td>...</td>\n",
              "    </tr>\n",
              "    <tr>\n",
              "      <th>19</th>\n",
              "      <td>GOA</td>\n",
              "    </tr>\n",
              "    <tr>\n",
              "      <th>524</th>\n",
              "      <td>GOA</td>\n",
              "    </tr>\n",
              "    <tr>\n",
              "      <th>944</th>\n",
              "      <td>UTTAR PRADESH</td>\n",
              "    </tr>\n",
              "    <tr>\n",
              "      <th>525</th>\n",
              "      <td>GOA</td>\n",
              "    </tr>\n",
              "    <tr>\n",
              "      <th>540</th>\n",
              "      <td>MAHARASHTRA</td>\n",
              "    </tr>\n",
              "  </tbody>\n",
              "</table>\n",
              "<p>286 rows × 1 columns</p>\n",
              "</div>"
            ],
            "text/plain": [
              "             STATE\n",
              "809    MAHARASHTRA\n",
              "877         KERALA\n",
              "311    MAHARASHTRA\n",
              "299    MAHARASHTRA\n",
              "707      RAJASTHAN\n",
              "..             ...\n",
              "19             GOA\n",
              "524            GOA\n",
              "944  UTTAR PRADESH\n",
              "525            GOA\n",
              "540    MAHARASHTRA\n",
              "\n",
              "[286 rows x 1 columns]"
            ]
          },
          "metadata": {
            "tags": []
          },
          "execution_count": 13
        }
      ]
    },
    {
      "cell_type": "code",
      "metadata": {
        "id": "6w6T_r4GJ85q"
      },
      "source": [
        "from sklearn.metrics import confusion_matrix"
      ],
      "execution_count": 15,
      "outputs": []
    },
    {
      "cell_type": "code",
      "metadata": {
        "colab": {
          "base_uri": "https://localhost:8080/"
        },
        "id": "NnfDUGtBV1-b",
        "outputId": "6617030a-5bfc-43e2-f2d4-ec1cf38f1d0a"
      },
      "source": [
        "cm=confusion_matrix(y_test,y_predict)\n",
        "cm"
      ],
      "execution_count": 17,
      "outputs": [
        {
          "output_type": "execute_result",
          "data": {
            "text/plain": [
              "array([[ 0,  0,  0,  0,  0,  0,  0,  0,  1,  5,  0,  0,  0,  0,  0,  0,\n",
              "         0,  0,  0],\n",
              "       [ 0,  0,  0,  0,  0,  0,  0,  0,  0,  1,  0,  0,  0,  0,  0,  0,\n",
              "         0,  0,  0],\n",
              "       [ 0,  0,  0,  0,  0,  0,  0,  0,  1,  0,  0,  0,  0,  0,  0,  0,\n",
              "         0,  0,  0],\n",
              "       [ 0,  0,  0,  5,  0,  0,  0,  0, 17,  8,  2,  0,  0,  0,  0,  0,\n",
              "         3,  0,  0],\n",
              "       [ 0,  0,  0,  0,  4,  0,  0,  0,  0,  5,  0,  0,  1,  0,  0,  0,\n",
              "         0,  0,  0],\n",
              "       [ 0,  0,  0,  0,  1,  0,  0,  0,  1,  1,  0,  0,  0,  0,  0,  0,\n",
              "         0,  0,  0],\n",
              "       [ 0,  0,  0,  0,  0,  0,  0,  0,  1,  3,  0,  0,  0,  0,  0,  0,\n",
              "         0,  0,  0],\n",
              "       [ 0,  0,  0,  0,  0,  0,  0,  0,  3,  1,  2,  0,  0,  0,  0,  0,\n",
              "         0,  0,  0],\n",
              "       [ 0,  0,  0,  2,  0,  0,  0,  0, 58, 14,  6,  0,  1,  0,  0,  0,\n",
              "         2,  0,  0],\n",
              "       [ 0,  0,  0,  0,  1,  0,  0,  0,  4, 28,  0,  0,  3,  0,  0,  0,\n",
              "         0,  0,  0],\n",
              "       [ 0,  0,  0,  0,  0,  0,  0,  0, 17,  2,  9,  0,  0,  0,  0,  0,\n",
              "         1,  0,  0],\n",
              "       [ 0,  0,  0,  0,  0,  0,  0,  0,  4,  3,  1,  0,  0,  0,  0,  0,\n",
              "         0,  0,  0],\n",
              "       [ 0,  0,  0,  0,  0,  0,  0,  0,  0,  9,  0,  0,  6,  0,  0,  0,\n",
              "         0,  0,  0],\n",
              "       [ 0,  0,  0,  0,  0,  0,  0,  0,  1,  3,  0,  0,  0,  0,  0,  0,\n",
              "         0,  0,  0],\n",
              "       [ 0,  0,  0,  0,  0,  0,  0,  0,  4, 11,  0,  0,  0,  0,  0,  0,\n",
              "         0,  0,  0],\n",
              "       [ 0,  0,  0,  0,  0,  0,  0,  0,  2,  4,  0,  0,  2,  0,  0,  0,\n",
              "         0,  0,  0],\n",
              "       [ 0,  0,  0,  1,  0,  0,  0,  0,  4,  7,  0,  0,  0,  0,  0,  0,\n",
              "         0,  0,  0],\n",
              "       [ 0,  0,  0,  0,  0,  0,  0,  0,  0,  4,  0,  0,  2,  0,  0,  0,\n",
              "         0,  0,  0],\n",
              "       [ 0,  0,  0,  0,  0,  0,  0,  0,  0,  4,  0,  0,  0,  0,  0,  0,\n",
              "         0,  0,  0]])"
            ]
          },
          "metadata": {
            "tags": []
          },
          "execution_count": 17
        }
      ]
    },
    {
      "cell_type": "code",
      "metadata": {
        "colab": {
          "base_uri": "https://localhost:8080/",
          "height": 282
        },
        "id": "UXLHTxbsWQ1g",
        "outputId": "a07e7026-a2bc-4085-9a51-a702eaece1db"
      },
      "source": [
        "import seaborn\n",
        "seaborn.heatmap(cm)"
      ],
      "execution_count": 18,
      "outputs": [
        {
          "output_type": "execute_result",
          "data": {
            "text/plain": [
              "<matplotlib.axes._subplots.AxesSubplot at 0x7fc7bedbf5d0>"
            ]
          },
          "metadata": {
            "tags": []
          },
          "execution_count": 18
        },
        {
          "output_type": "display_data",
          "data": {
            "image/png": "[encoded data removed]",
            "text/plain": [
              "<Figure size 432x288 with 2 Axes>"
            ]
          },
          "metadata": {
            "tags": [],
            "needs_background": "light"
          }
        }
      ]
    },
    {
      "cell_type": "code",
      "metadata": {
        "colab": {
          "base_uri": "https://localhost:8080/",
          "height": 282
        },
        "id": "4-84RxwqaXLj",
        "outputId": "6b934cb2-d6d8-4505-e4fe-92619944c980"
      },
      "source": [
        "seaborn.heatmap(cm,cmap=\"tab20\")\n"
      ],
      "execution_count": 20,
      "outputs": [
        {
          "output_type": "execute_result",
          "data": {
            "text/plain": [
              "<matplotlib.axes._subplots.AxesSubplot at 0x7fc7b5f83b10>"
            ]
          },
          "metadata": {
            "tags": []
          },
          "execution_count": 20
        },
        {
          "output_type": "display_data",
          "data": {
            "image/png": "[encoded data removed]",
            "text/plain": [
              "<Figure size 432x288 with 2 Axes>"
            ]
          },
          "metadata": {
            "tags": [],
            "needs_background": "light"
          }
        }
      ]
    },
    {
      "cell_type": "code",
      "metadata": {
        "id": "-WyAeHZ5avIV"
      },
      "source": [
        ""
      ],
      "execution_count": null,
      "outputs": []
    }
  ]
}