{
  "nbformat": 4,
  "nbformat_minor": 0,
  "metadata": {
    "colab": {
      "name": "Linear_Regression_model.ipynb",
      "provenance": [],
      "collapsed_sections": []
    },
    "kernelspec": {
      "name": "python3",
      "display_name": "Python 3"
    },
    "language_info": {
      "name": "python"
    }
  },
  "cells": [
    {
      "cell_type": "markdown",
      "metadata": {
        "id": "6s5oPcpWczRe"
      },
      "source": [
        "# **Linear Regression Model**"
      ]
    },
    {
      "cell_type": "markdown",
      "metadata": {
        "id": "hUlyt5DxdEdH"
      },
      "source": [
        "**EQUATION: y=mx+c** \n",
        "> **where y is dependent variable** \n",
        "> **x is independent variable**"
      ]
    },
    {
      "cell_type": "code",
      "metadata": {
        "id": "bZ4bhckVcekE"
      },
      "source": [
        "import numpy as np\n",
        "import pandas as pd\n",
        "from sklearn.preprocessing import StandardScaler\n",
        "from sklearn.model_selection import train_test_split\n",
        "from sklearn.linear_model import LinearRegression\n",
        "from sklearn.metrics import r2_score "
      ],
      "execution_count": null,
      "outputs": []
    },
    {
      "cell_type": "code",
      "metadata": {
        "id": "nkEdMkhmdiGt"
      },
      "source": [
        "df=pd.read_csv('/content/exams (2).csv')"
      ],
      "execution_count": 4,
      "outputs": []
    },
    {
      "cell_type": "code",
      "metadata": {
        "colab": {
          "base_uri": "https://localhost:8080/",
          "height": 212
        },
        "id": "om0TyWFndqlO",
        "outputId": "e4620c7b-af4d-4347-9dc9-5b45c6c0524d"
      },
      "source": [
        "df.head(5)"
      ],
      "execution_count": 5,
      "outputs": [
        {
          "output_type": "execute_result",
          "data": {
            "text/html": [
              "<div>\n",
              "<style scoped>\n",
              "    .dataframe tbody tr th:only-of-type {\n",
              "        vertical-align: middle;\n",
              "    }\n",
              "\n",
              "    .dataframe tbody tr th {\n",
              "        vertical-align: top;\n",
              "    }\n",
              "\n",
              "    .dataframe thead th {\n",
              "        text-align: right;\n",
              "    }\n",
              "</style>\n",
              "<table border=\"1\" class=\"dataframe\">\n",
              "  <thead>\n",
              "    <tr style=\"text-align: right;\">\n",
              "      <th></th>\n",
              "      <th>gender</th>\n",
              "      <th>race/ethnicity</th>\n",
              "      <th>parental level of education</th>\n",
              "      <th>lunch</th>\n",
              "      <th>test preparation course</th>\n",
              "      <th>math score</th>\n",
              "      <th>aptitude score</th>\n",
              "      <th>writing score</th>\n",
              "      <th>Total</th>\n",
              "      <th>GradePoints</th>\n",
              "    </tr>\n",
              "  </thead>\n",
              "  <tbody>\n",
              "    <tr>\n",
              "      <th>0</th>\n",
              "      <td>male</td>\n",
              "      <td>group E</td>\n",
              "      <td>some college</td>\n",
              "      <td>standard</td>\n",
              "      <td>0</td>\n",
              "      <td>100</td>\n",
              "      <td>91</td>\n",
              "      <td>84</td>\n",
              "      <td>275</td>\n",
              "      <td>0.9</td>\n",
              "    </tr>\n",
              "    <tr>\n",
              "      <th>1</th>\n",
              "      <td>male</td>\n",
              "      <td>group C</td>\n",
              "      <td>some college</td>\n",
              "      <td>free/reduced</td>\n",
              "      <td>10</td>\n",
              "      <td>38</td>\n",
              "      <td>31</td>\n",
              "      <td>36</td>\n",
              "      <td>105</td>\n",
              "      <td>0.4</td>\n",
              "    </tr>\n",
              "    <tr>\n",
              "      <th>2</th>\n",
              "      <td>male</td>\n",
              "      <td>group E</td>\n",
              "      <td>high school</td>\n",
              "      <td>standard</td>\n",
              "      <td>10</td>\n",
              "      <td>83</td>\n",
              "      <td>74</td>\n",
              "      <td>73</td>\n",
              "      <td>230</td>\n",
              "      <td>0.8</td>\n",
              "    </tr>\n",
              "    <tr>\n",
              "      <th>3</th>\n",
              "      <td>female</td>\n",
              "      <td>group B</td>\n",
              "      <td>some college</td>\n",
              "      <td>standard</td>\n",
              "      <td>0</td>\n",
              "      <td>73</td>\n",
              "      <td>79</td>\n",
              "      <td>79</td>\n",
              "      <td>231</td>\n",
              "      <td>0.8</td>\n",
              "    </tr>\n",
              "    <tr>\n",
              "      <th>4</th>\n",
              "      <td>female</td>\n",
              "      <td>group A</td>\n",
              "      <td>some high school</td>\n",
              "      <td>free/reduced</td>\n",
              "      <td>10</td>\n",
              "      <td>74</td>\n",
              "      <td>80</td>\n",
              "      <td>81</td>\n",
              "      <td>235</td>\n",
              "      <td>0.8</td>\n",
              "    </tr>\n",
              "  </tbody>\n",
              "</table>\n",
              "</div>"
            ],
            "text/plain": [
              "   gender race/ethnicity  ... Total GradePoints\n",
              "0    male        group E  ...   275         0.9\n",
              "1    male        group C  ...   105         0.4\n",
              "2    male        group E  ...   230         0.8\n",
              "3  female        group B  ...   231         0.8\n",
              "4  female        group A  ...   235         0.8\n",
              "\n",
              "[5 rows x 10 columns]"
            ]
          },
          "metadata": {
            "tags": []
          },
          "execution_count": 5
        }
      ]
    },
    {
      "cell_type": "code",
      "metadata": {
        "id": "f-Yrlqjid7if"
      },
      "source": [
        "Independent=df[['aptitude score']]\n",
        "dependent=df[['GradePoints']]\n",
        "X_train ,X_test,Y_train,Y_test=train_test_split(Independent,dependent,test_size=0.3)\n"
      ],
      "execution_count": 6,
      "outputs": []
    },
    {
      "cell_type": "code",
      "metadata": {
        "colab": {
          "base_uri": "https://localhost:8080/"
        },
        "id": "px9PEALgeTVA",
        "outputId": "d909f189-18a6-4e94-f480-725bacbcad9c"
      },
      "source": [
        "print(X_train.shape)"
      ],
      "execution_count": 7,
      "outputs": [
        {
          "output_type": "stream",
          "text": [
            "(700, 1)\n"
          ],
          "name": "stdout"
        }
      ]
    },
    {
      "cell_type": "code",
      "metadata": {
        "colab": {
          "base_uri": "https://localhost:8080/"
        },
        "id": "oLvPbhqNecNb",
        "outputId": "02486b1d-e404-475c-9dbd-68fdac40cc24"
      },
      "source": [
        "X_train.info"
      ],
      "execution_count": 9,
      "outputs": [
        {
          "output_type": "execute_result",
          "data": {
            "text/plain": [
              "<bound method DataFrame.info of      aptitude score\n",
              "714              68\n",
              "505              55\n",
              "297              61\n",
              "238              78\n",
              "11               67\n",
              "..              ...\n",
              "646              67\n",
              "122              74\n",
              "76               93\n",
              "805              97\n",
              "192              78\n",
              "\n",
              "[700 rows x 1 columns]>"
            ]
          },
          "metadata": {
            "tags": []
          },
          "execution_count": 9
        }
      ]
    },
    {
      "cell_type": "code",
      "metadata": {
        "colab": {
          "base_uri": "https://localhost:8080/"
        },
        "id": "vff94rlEeogt",
        "outputId": "2eb147e4-c5d5-4295-cdb2-39859a83bb60"
      },
      "source": [
        "lr=LinearRegression()\n",
        "lr.fit(X_train,Y_train)"
      ],
      "execution_count": 8,
      "outputs": [
        {
          "output_type": "execute_result",
          "data": {
            "text/plain": [
              "LinearRegression(copy_X=True, fit_intercept=True, n_jobs=None, normalize=False)"
            ]
          },
          "metadata": {
            "tags": []
          },
          "execution_count": 8
        }
      ]
    },
    {
      "cell_type": "code",
      "metadata": {
        "colab": {
          "base_uri": "https://localhost:8080/"
        },
        "id": "C-E3pbFPe-vM",
        "outputId": "c5e8a99b-23d8-4b5f-f8de-6b281303d8bb"
      },
      "source": [
        "y_pred=lr.predict(X_test)\n",
        "y_pred"
      ],
      "execution_count": 11,
      "outputs": [
        {
          "output_type": "execute_result",
          "data": {
            "text/plain": [
              "array([[0.49823185],\n",
              "       [0.82481267],\n",
              "       [0.6807329 ],\n",
              "       [0.63270631],\n",
              "       [0.58467972],\n",
              "       [0.90165522],\n",
              "       [0.56546908],\n",
              "       [0.84402331],\n",
              "       [0.47902122],\n",
              "       [0.59428503],\n",
              "       [0.71915417],\n",
              "       [0.74797013],\n",
              "       [0.70954885],\n",
              "       [0.79599672],\n",
              "       [0.56546908],\n",
              "       [0.74797013],\n",
              "       [0.77678608],\n",
              "       [0.5750744 ],\n",
              "       [0.86323394],\n",
              "       [0.59428503],\n",
              "       [0.38296804],\n",
              "       [0.50783717],\n",
              "       [0.58467972],\n",
              "       [0.81520735],\n",
              "       [0.58467972],\n",
              "       [0.71915417],\n",
              "       [0.97849776],\n",
              "       [0.54625844],\n",
              "       [0.76718076],\n",
              "       [0.69033822],\n",
              "       [0.67112758],\n",
              "       [0.65191694],\n",
              "       [0.63270631],\n",
              "       [0.65191694],\n",
              "       [0.69033822],\n",
              "       [0.48862654],\n",
              "       [0.60389035],\n",
              "       [0.63270631],\n",
              "       [0.81520735],\n",
              "       [0.74797013],\n",
              "       [0.45020526],\n",
              "       [0.48862654],\n",
              "       [0.58467972],\n",
              "       [0.64231163],\n",
              "       [0.77678608],\n",
              "       [0.51744249],\n",
              "       [0.73836481],\n",
              "       [0.55586376],\n",
              "       [0.59428503],\n",
              "       [0.51744249],\n",
              "       [0.43099463],\n",
              "       [0.95928712],\n",
              "       [0.66152226],\n",
              "       [0.41178399],\n",
              "       [0.53665313],\n",
              "       [0.56546908],\n",
              "       [0.64231163],\n",
              "       [0.85362862],\n",
              "       [0.61349567],\n",
              "       [0.67112758],\n",
              "       [0.82481267],\n",
              "       [0.79599672],\n",
              "       [0.53665313],\n",
              "       [0.47902122],\n",
              "       [0.69033822],\n",
              "       [0.66152226],\n",
              "       [0.42138931],\n",
              "       [0.74797013],\n",
              "       [0.54625844],\n",
              "       [0.75757544],\n",
              "       [0.66152226],\n",
              "       [0.82481267],\n",
              "       [0.60389035],\n",
              "       [0.53665313],\n",
              "       [0.85362862],\n",
              "       [0.82481267],\n",
              "       [0.30612549],\n",
              "       [0.76718076],\n",
              "       [0.81520735],\n",
              "       [0.6807329 ],\n",
              "       [0.75757544],\n",
              "       [0.90165522],\n",
              "       [0.59428503],\n",
              "       [0.62310099],\n",
              "       [0.58467972],\n",
              "       [0.53665313],\n",
              "       [0.65191694],\n",
              "       [0.59428503],\n",
              "       [0.65191694],\n",
              "       [0.72875949],\n",
              "       [0.71915417],\n",
              "       [0.34454676],\n",
              "       [0.76718076],\n",
              "       [0.54625844],\n",
              "       [0.80560203],\n",
              "       [0.77678608],\n",
              "       [0.70954885],\n",
              "       [0.60389035],\n",
              "       [0.76718076],\n",
              "       [0.80560203],\n",
              "       [0.67112758],\n",
              "       [0.87283926],\n",
              "       [0.69033822],\n",
              "       [0.5750744 ],\n",
              "       [0.55586376],\n",
              "       [0.53665313],\n",
              "       [0.83441799],\n",
              "       [0.65191694],\n",
              "       [0.97849776],\n",
              "       [0.65191694],\n",
              "       [0.48862654],\n",
              "       [0.51744249],\n",
              "       [0.63270631],\n",
              "       [0.71915417],\n",
              "       [0.62310099],\n",
              "       [0.59428503],\n",
              "       [0.54625844],\n",
              "       [0.4694159 ],\n",
              "       [0.84402331],\n",
              "       [0.63270631],\n",
              "       [0.6807329 ],\n",
              "       [0.60389035],\n",
              "       [0.66152226],\n",
              "       [0.58467972],\n",
              "       [0.51744249],\n",
              "       [0.65191694],\n",
              "       [0.49823185],\n",
              "       [0.67112758],\n",
              "       [0.92086585],\n",
              "       [0.87283926],\n",
              "       [0.64231163],\n",
              "       [0.6807329 ],\n",
              "       [0.69994353],\n",
              "       [0.67112758],\n",
              "       [0.54625844],\n",
              "       [0.79599672],\n",
              "       [0.63270631],\n",
              "       [0.35415208],\n",
              "       [0.74797013],\n",
              "       [0.71915417],\n",
              "       [0.85362862],\n",
              "       [0.7863914 ],\n",
              "       [0.69994353],\n",
              "       [0.93047117],\n",
              "       [0.97849776],\n",
              "       [0.66152226],\n",
              "       [0.82481267],\n",
              "       [0.40217867],\n",
              "       [0.58467972],\n",
              "       [0.82481267],\n",
              "       [0.4694159 ],\n",
              "       [0.4694159 ],\n",
              "       [0.7863914 ],\n",
              "       [0.49823185],\n",
              "       [0.63270631],\n",
              "       [0.79599672],\n",
              "       [0.93047117],\n",
              "       [0.40217867],\n",
              "       [0.67112758],\n",
              "       [0.69033822],\n",
              "       [0.71915417],\n",
              "       [0.88244458],\n",
              "       [0.72875949],\n",
              "       [0.72875949],\n",
              "       [0.42138931],\n",
              "       [0.79599672],\n",
              "       [0.69994353],\n",
              "       [0.62310099],\n",
              "       [0.62310099],\n",
              "       [0.43099463],\n",
              "       [0.66152226],\n",
              "       [0.70954885],\n",
              "       [0.7863914 ],\n",
              "       [0.73836481],\n",
              "       [0.76718076],\n",
              "       [0.6807329 ],\n",
              "       [0.51744249],\n",
              "       [0.79599672],\n",
              "       [0.74797013],\n",
              "       [0.69994353],\n",
              "       [0.71915417],\n",
              "       [0.94007649],\n",
              "       [0.67112758],\n",
              "       [0.80560203],\n",
              "       [0.7863914 ],\n",
              "       [0.73836481],\n",
              "       [0.72875949],\n",
              "       [0.5750744 ],\n",
              "       [0.37336272],\n",
              "       [0.83441799],\n",
              "       [0.58467972],\n",
              "       [0.6807329 ],\n",
              "       [0.72875949],\n",
              "       [0.86323394],\n",
              "       [0.79599672],\n",
              "       [0.70954885],\n",
              "       [0.63270631],\n",
              "       [0.8920499 ],\n",
              "       [0.90165522],\n",
              "       [0.48862654],\n",
              "       [0.66152226],\n",
              "       [0.75757544],\n",
              "       [0.79599672],\n",
              "       [0.69994353],\n",
              "       [0.58467972],\n",
              "       [0.86323394],\n",
              "       [0.76718076],\n",
              "       [0.84402331],\n",
              "       [0.52704781],\n",
              "       [0.69994353],\n",
              "       [0.66152226],\n",
              "       [0.67112758],\n",
              "       [0.85362862],\n",
              "       [0.8920499 ],\n",
              "       [0.82481267],\n",
              "       [0.56546908],\n",
              "       [0.81520735],\n",
              "       [0.69033822],\n",
              "       [0.75757544],\n",
              "       [0.44059994],\n",
              "       [0.56546908],\n",
              "       [0.82481267],\n",
              "       [0.88244458],\n",
              "       [0.82481267],\n",
              "       [0.64231163],\n",
              "       [0.86323394],\n",
              "       [0.6807329 ],\n",
              "       [0.54625844],\n",
              "       [0.77678608],\n",
              "       [0.77678608],\n",
              "       [0.64231163],\n",
              "       [0.70954885],\n",
              "       [0.65191694],\n",
              "       [0.49823185],\n",
              "       [0.52704781],\n",
              "       [0.65191694],\n",
              "       [0.45020526],\n",
              "       [0.55586376],\n",
              "       [0.6807329 ],\n",
              "       [0.97849776],\n",
              "       [0.72875949],\n",
              "       [0.60389035],\n",
              "       [0.58467972],\n",
              "       [0.65191694],\n",
              "       [0.48862654],\n",
              "       [0.62310099],\n",
              "       [0.69994353],\n",
              "       [0.81520735],\n",
              "       [0.93047117],\n",
              "       [0.45981058],\n",
              "       [0.6807329 ],\n",
              "       [0.53665313],\n",
              "       [0.70954885],\n",
              "       [0.66152226],\n",
              "       [0.61349567],\n",
              "       [0.85362862],\n",
              "       [0.86323394],\n",
              "       [0.91126053],\n",
              "       [0.69033822],\n",
              "       [0.73836481],\n",
              "       [0.69033822],\n",
              "       [0.83441799],\n",
              "       [0.56546908],\n",
              "       [0.67112758],\n",
              "       [0.72875949],\n",
              "       [0.75757544],\n",
              "       [0.84402331],\n",
              "       [0.75757544],\n",
              "       [0.73836481],\n",
              "       [0.63270631],\n",
              "       [0.62310099],\n",
              "       [0.4694159 ],\n",
              "       [0.69994353],\n",
              "       [0.79599672],\n",
              "       [0.74797013],\n",
              "       [0.5750744 ],\n",
              "       [0.66152226],\n",
              "       [0.72875949],\n",
              "       [0.58467972],\n",
              "       [0.59428503],\n",
              "       [0.56546908],\n",
              "       [0.75757544],\n",
              "       [0.85362862],\n",
              "       [0.69994353],\n",
              "       [0.86323394],\n",
              "       [0.70954885],\n",
              "       [0.80560203],\n",
              "       [0.70954885],\n",
              "       [0.63270631],\n",
              "       [0.92086585],\n",
              "       [0.75757544],\n",
              "       [0.70954885],\n",
              "       [0.67112758],\n",
              "       [0.5750744 ],\n",
              "       [0.75757544],\n",
              "       [0.71915417],\n",
              "       [0.80560203],\n",
              "       [0.97849776],\n",
              "       [0.5750744 ],\n",
              "       [0.58467972]])"
            ]
          },
          "metadata": {
            "tags": []
          },
          "execution_count": 11
        }
      ]
    },
    {
      "cell_type": "code",
      "metadata": {
        "colab": {
          "base_uri": "https://localhost:8080/"
        },
        "id": "TQlvS3onfFq9",
        "outputId": "83fe0061-5bee-4c85-f56e-2b2ccf3b5f3b"
      },
      "source": [
        "r2_score(Y_test,y_pred)"
      ],
      "execution_count": 12,
      "outputs": [
        {
          "output_type": "execute_result",
          "data": {
            "text/plain": [
              "0.879461135167802"
            ]
          },
          "metadata": {
            "tags": []
          },
          "execution_count": 12
        }
      ]
    }
  ]
}